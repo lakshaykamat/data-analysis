{
 "cells": [
  {
   "cell_type": "markdown",
   "id": "551def86",
   "metadata": {},
   "source": [
    "# Data Cleaning Pipeline\n",
    "This notebook outlines a structured process for cleaning, transforming, and preparing app usage data for analysis. \n",
    "The steps include removing unwanted text, converting time formats, reshaping data, and merging datasets.\n",
    "\n",
    "---\n",
    "\n",
    "## Step 1: Import Libraries"
   ]
  },
  {
   "cell_type": "code",
   "execution_count": 1,
   "id": "749f7670",
   "metadata": {},
   "outputs": [],
   "source": [
    "import pandas as pd\n",
    "import re\n",
    "import numpy as np"
   ]
  },
  {
   "cell_type": "markdown",
   "id": "a194b29e",
   "metadata": {},
   "source": [
    "## Step 2: Load the Dataset\n",
    "Load the primary dataset containing app usage data."
   ]
  },
  {
   "cell_type": "code",
   "execution_count": 2,
   "id": "66078c23",
   "metadata": {
    "lines_to_next_cell": 1
   },
   "outputs": [
    {
     "data": {
      "text/html": [
       "<div>\n",
       "<style scoped>\n",
       "    .dataframe tbody tr th:only-of-type {\n",
       "        vertical-align: middle;\n",
       "    }\n",
       "\n",
       "    .dataframe tbody tr th {\n",
       "        vertical-align: top;\n",
       "    }\n",
       "\n",
       "    .dataframe thead th {\n",
       "        text-align: right;\n",
       "    }\n",
       "</style>\n",
       "<table border=\"1\" class=\"dataframe\">\n",
       "  <thead>\n",
       "    <tr style=\"text-align: right;\">\n",
       "      <th></th>\n",
       "      <th>Unnamed: 0</th>\n",
       "      <th>Device</th>\n",
       "      <th>December 8, 2024</th>\n",
       "      <th>December 9, 2024</th>\n",
       "      <th>December 10, 2024</th>\n",
       "      <th>December 11, 2024</th>\n",
       "      <th>December 12, 2024</th>\n",
       "      <th>December 13, 2024</th>\n",
       "      <th>December 14, 2024</th>\n",
       "      <th>December 15, 2024</th>\n",
       "      <th>December 16, 2024</th>\n",
       "      <th>December 17, 2024</th>\n",
       "      <th>December 18, 2024</th>\n",
       "      <th>December 19, 2024</th>\n",
       "      <th>Total Usage</th>\n",
       "    </tr>\n",
       "  </thead>\n",
       "  <tbody>\n",
       "    <tr>\n",
       "      <th>0</th>\n",
       "      <td>a.co</td>\n",
       "      <td>NaN</td>\n",
       "      <td>0s</td>\n",
       "      <td>0s</td>\n",
       "      <td>0s</td>\n",
       "      <td>0s</td>\n",
       "      <td>0s</td>\n",
       "      <td>0s</td>\n",
       "      <td>0s</td>\n",
       "      <td>0s</td>\n",
       "      <td>0s</td>\n",
       "      <td>0s</td>\n",
       "      <td>2s</td>\n",
       "      <td>0s</td>\n",
       "      <td>2s</td>\n",
       "    </tr>\n",
       "    <tr>\n",
       "      <th>1</th>\n",
       "      <td>ActionDash</td>\n",
       "      <td>NaN</td>\n",
       "      <td>0s</td>\n",
       "      <td>0s</td>\n",
       "      <td>0s</td>\n",
       "      <td>0s</td>\n",
       "      <td>0s</td>\n",
       "      <td>0s</td>\n",
       "      <td>0s</td>\n",
       "      <td>0s</td>\n",
       "      <td>0s</td>\n",
       "      <td>0s</td>\n",
       "      <td>1m 47s</td>\n",
       "      <td>44s</td>\n",
       "      <td>2m 32s</td>\n",
       "    </tr>\n",
       "    <tr>\n",
       "      <th>2</th>\n",
       "      <td>Airtel</td>\n",
       "      <td>NaN</td>\n",
       "      <td>0s</td>\n",
       "      <td>0s</td>\n",
       "      <td>0s</td>\n",
       "      <td>0s</td>\n",
       "      <td>0s</td>\n",
       "      <td>12s</td>\n",
       "      <td>0s</td>\n",
       "      <td>0s</td>\n",
       "      <td>0s</td>\n",
       "      <td>0s</td>\n",
       "      <td>0s</td>\n",
       "      <td>0s</td>\n",
       "      <td>12s</td>\n",
       "    </tr>\n",
       "    <tr>\n",
       "      <th>3</th>\n",
       "      <td>amazon.ca</td>\n",
       "      <td>NaN</td>\n",
       "      <td>0s</td>\n",
       "      <td>0s</td>\n",
       "      <td>0s</td>\n",
       "      <td>0s</td>\n",
       "      <td>0s</td>\n",
       "      <td>0s</td>\n",
       "      <td>0s</td>\n",
       "      <td>0s</td>\n",
       "      <td>0s</td>\n",
       "      <td>0s</td>\n",
       "      <td>2s</td>\n",
       "      <td>0s</td>\n",
       "      <td>2s</td>\n",
       "    </tr>\n",
       "    <tr>\n",
       "      <th>4</th>\n",
       "      <td>analytics.twitter.com</td>\n",
       "      <td>NaN</td>\n",
       "      <td>0s</td>\n",
       "      <td>0s</td>\n",
       "      <td>0s</td>\n",
       "      <td>0s</td>\n",
       "      <td>0s</td>\n",
       "      <td>0s</td>\n",
       "      <td>0s</td>\n",
       "      <td>0s</td>\n",
       "      <td>0s</td>\n",
       "      <td>0s</td>\n",
       "      <td>6s</td>\n",
       "      <td>0s</td>\n",
       "      <td>6s</td>\n",
       "    </tr>\n",
       "  </tbody>\n",
       "</table>\n",
       "</div>"
      ],
      "text/plain": [
       "              Unnamed: 0  Device December 8, 2024 December 9, 2024  \\\n",
       "0                   a.co     NaN               0s               0s   \n",
       "1             ActionDash     NaN               0s               0s   \n",
       "2                 Airtel     NaN               0s               0s   \n",
       "3              amazon.ca     NaN               0s               0s   \n",
       "4  analytics.twitter.com     NaN               0s               0s   \n",
       "\n",
       "  December 10, 2024 December 11, 2024 December 12, 2024 December 13, 2024  \\\n",
       "0                0s                0s                0s                0s   \n",
       "1                0s                0s                0s                0s   \n",
       "2                0s                0s                0s               12s   \n",
       "3                0s                0s                0s                0s   \n",
       "4                0s                0s                0s                0s   \n",
       "\n",
       "  December 14, 2024 December 15, 2024 December 16, 2024 December 17, 2024  \\\n",
       "0                0s                0s                0s                0s   \n",
       "1                0s                0s                0s                0s   \n",
       "2                0s                0s                0s                0s   \n",
       "3                0s                0s                0s                0s   \n",
       "4                0s                0s                0s                0s   \n",
       "\n",
       "  December 18, 2024 December 19, 2024 Total Usage  \n",
       "0                2s                0s          2s  \n",
       "1            1m 47s               44s      2m 32s  \n",
       "2                0s                0s         12s  \n",
       "3                2s                0s          2s  \n",
       "4                6s                0s          6s  "
      ]
     },
     "execution_count": 2,
     "metadata": {},
     "output_type": "execute_result"
    }
   ],
   "source": [
    "# File paths\n",
    "file_path = \"StayFree Export - Total Usage - 12_19_24.xls\"  # Replace with your actual file path\n",
    "output_path = \"usage_data_cleaned.xlsx\"\n",
    "\n",
    "# Load the dataset\n",
    "usage_time_df = pd.read_excel(file_path, sheet_name=\"Usage Time\")\n",
    "usage_time_df.head()"
   ]
  },
  {
   "cell_type": "markdown",
   "id": "8773f5c2",
   "metadata": {},
   "source": [
    "## Step 3: Remove Dynamic Text Information\n",
    "Define a function to clean dynamic text, such as creation dates and app metadata."
   ]
  },
  {
   "cell_type": "code",
   "execution_count": 3,
   "id": "44c00619",
   "metadata": {},
   "outputs": [
    {
     "name": "stderr",
     "output_type": "stream",
     "text": [
      "C:\\Users\\Lakshay\\AppData\\Local\\Temp\\ipykernel_23312\\3641865516.py:9: FutureWarning: DataFrame.applymap has been deprecated. Use DataFrame.map instead.\n",
      "  usage_time_df = usage_time_df.applymap(remove_creation_info)\n"
     ]
    }
   ],
   "source": [
    "# Function to remove dynamic creation info\n",
    "def remove_creation_info(text):\n",
    "    if isinstance(text, str):\n",
    "        text = re.sub(r\"Creation date:\\s*\\d{1,2}/\\d{1,2}/\\d{2,4}\\s*\\d{1,2}:\\d{2}:\\d{2}(:\\d{2})?\", '', text)\n",
    "        text = re.sub(r\"Created by \\u201cStayFree\\u201d\\.\", '', text)\n",
    "    return text\n",
    "\n",
    "# Apply the function to clean the dataset\n",
    "usage_time_df = usage_time_df.applymap(remove_creation_info)\n",
    "usage_time_df.columns.values[0] = 'Apps'"
   ]
  },
  {
   "cell_type": "markdown",
   "id": "8c12fc22",
   "metadata": {},
   "source": [
    "## Step 4: Clean Unwanted Columns\n",
    "Remove columns with irrelevant data (e.g., `Unnamed` or `Device`) to streamline the dataset."
   ]
  },
  {
   "cell_type": "code",
   "execution_count": 4,
   "id": "73531bdd",
   "metadata": {
    "lines_to_next_cell": 1
   },
   "outputs": [],
   "source": [
    "# Remove unwanted columns\n",
    "usage_time_df = usage_time_df.loc[:, ~usage_time_df.columns.str.contains('^Unnamed')]\n",
    "usage_time_df = usage_time_df.loc[:, ~usage_time_df.columns.str.contains('Device')]"
   ]
  },
  {
   "cell_type": "markdown",
   "id": "f8dd003e",
   "metadata": {},
   "source": [
    "## Step 5: Convert Time to Hours\n",
    "Define a function to standardize various time formats (e.g., `3h 4m`, `29m`) into total hours."
   ]
  },
  {
   "cell_type": "code",
   "execution_count": 5,
   "id": "24ca9644",
   "metadata": {},
   "outputs": [
    {
     "data": {
      "text/plain": [
       "0.48333333333333334"
      ]
     },
     "execution_count": 5,
     "metadata": {},
     "output_type": "execute_result"
    }
   ],
   "source": [
    "# Function to convert time strings to hours\n",
    "def convert_to_hours(time_str):\n",
    "    if pd.isna(time_str) or time_str == '0s':\n",
    "        return 0.0\n",
    "\n",
    "    hours = minutes = seconds = 0\n",
    "    \n",
    "    match = re.match(r'(\\d+)h\\s*(\\d+)m\\s*(\\d+)s', time_str)\n",
    "    if match:\n",
    "        hours, minutes, seconds = int(match.group(1)), int(match.group(2)), int(match.group(3))\n",
    "    else:\n",
    "        match = re.match(r'(\\d+)h\\s*(\\d+)m', time_str)\n",
    "        if match:\n",
    "            hours, minutes = int(match.group(1)), int(match.group(2))\n",
    "        else:\n",
    "            match = re.match(r'(\\d+)m\\s*(\\d+)s', time_str)\n",
    "            if match:\n",
    "                minutes, seconds = int(match.group(1)), int(match.group(2))\n",
    "            else:\n",
    "                match = re.match(r'(\\d+)m', time_str)\n",
    "                if match:\n",
    "                    minutes = int(match.group(1))\n",
    "                else:\n",
    "                    match = re.match(r'(\\d+)s', time_str)\n",
    "                    if match:\n",
    "                        seconds = int(match.group(1))\n",
    "\n",
    "    return hours + (minutes / 60) + (seconds / 3600)\n",
    "\n",
    "# Test the function\n",
    "convert_to_hours(\"29m\")"
   ]
  },
  {
   "cell_type": "markdown",
   "id": "c6bf377f",
   "metadata": {},
   "source": [
    "## Step 6: Clean DataFrame\n",
    "Remove rows with `Total Usage`, empty values, or NaN entries."
   ]
  },
  {
   "cell_type": "code",
   "execution_count": 6,
   "id": "c8b034a6",
   "metadata": {},
   "outputs": [],
   "source": [
    "# Clean the data\n",
    "usage_time_cleaned = usage_time_df.drop('Total Usage', axis=1, errors='ignore')\n",
    "usage_time_cleaned = usage_time_cleaned.dropna(how='any')\n",
    "usage_time_cleaned = usage_time_cleaned.loc[~(usage_time_cleaned == '').any(axis=1)]\n",
    "usage_time_cleaned = usage_time_cleaned[usage_time_cleaned['Apps'] != 'Total Usage']"
   ]
  },
  {
   "cell_type": "markdown",
   "id": "a3137177",
   "metadata": {},
   "source": [
    "## Step 7: Reshape DataFrame to Long Format\n",
    "Transform the data from a wide format (dates as columns) to a long format."
   ]
  },
  {
   "cell_type": "code",
   "execution_count": 7,
   "id": "b9c5fcbe",
   "metadata": {},
   "outputs": [],
   "source": [
    "# Convert to long format\n",
    "usage_time_long = pd.melt(usage_time_cleaned, id_vars=['Apps'], var_name='Date', value_name='Usage')"
   ]
  },
  {
   "cell_type": "markdown",
   "id": "641ae868",
   "metadata": {},
   "source": [
    "## Step 8: Convert Date Column\n",
    "Standardize the `Date` column to ISO format (`YYYY-MM-DD`)."
   ]
  },
  {
   "cell_type": "code",
   "execution_count": 8,
   "id": "965cd3fb",
   "metadata": {},
   "outputs": [],
   "source": [
    "# Format the Date column\n",
    "usage_time_long['Date'] = pd.to_datetime(usage_time_long['Date'], errors='coerce').dt.strftime('%Y-%m-%d')"
   ]
  },
  {
   "cell_type": "markdown",
   "id": "843ee7f3",
   "metadata": {},
   "source": [
    "## Step 9: Convert Usage Column to Hours\n",
    "Apply the `convert_to_hours` function to the `Usage` column."
   ]
  },
  {
   "cell_type": "code",
   "execution_count": 9,
   "id": "c1936b11",
   "metadata": {},
   "outputs": [],
   "source": [
    "# Convert usage to hours\n",
    "usage_time_long['Usage (in hours)'] = usage_time_long['Usage'].apply(convert_to_hours)"
   ]
  },
  {
   "cell_type": "markdown",
   "id": "ad94d62c",
   "metadata": {},
   "source": [
    "## Step 10: Add Usage Count Data\n",
    "Load usage count data and merge it with the cleaned dataset."
   ]
  },
  {
   "cell_type": "code",
   "execution_count": 10,
   "id": "6ae10706",
   "metadata": {},
   "outputs": [
    {
     "name": "stderr",
     "output_type": "stream",
     "text": [
      "C:\\Users\\Lakshay\\AppData\\Local\\Temp\\ipykernel_23312\\4268449071.py:3: FutureWarning: DataFrame.applymap has been deprecated. Use DataFrame.map instead.\n",
      "  usage_count_df = usage_count_df.applymap(remove_creation_info)\n"
     ]
    }
   ],
   "source": [
    "# Load and clean usage count data\n",
    "usage_count_df = pd.read_excel(file_path, sheet_name=\"Usage Count\")\n",
    "usage_count_df = usage_count_df.applymap(remove_creation_info)\n",
    "usage_count_df = usage_count_df.loc[~(usage_count_df == '').any(axis=1)]\n",
    "usage_count_df = usage_count_df.drop(columns=['Device'], errors='ignore')\n",
    "usage_count_df = usage_count_df.dropna()\n",
    "usage_count_df.rename(columns={usage_count_df.columns[0]: 'App Name'}, inplace=True)\n",
    "usage_count_df = usage_count_df[usage_count_df['App Name'] != 'Total Usage']\n",
    "\n",
    "# Reshape to long format\n",
    "usage_count_long = usage_count_df.melt(id_vars=['App Name'], var_name='Date', value_name='Usage Count')\n",
    "usage_count_long['Date'] = pd.to_datetime(usage_count_long['Date'], errors='coerce').dt.strftime('%Y-%m-%d')\n",
    "\n",
    "# Merge with the main dataset\n",
    "merged_df = pd.merge(usage_time_long, usage_count_long, left_on=['Apps', 'Date'], right_on=['App Name', 'Date'], how='left')\n",
    "merged_df = merged_df.drop(columns=['App Name']).fillna({'Usage Count': 0})"
   ]
  },
  {
   "cell_type": "markdown",
   "id": "5f841278",
   "metadata": {},
   "source": [
    "## Step 11: Add Device Unlock Data\n",
    "Load and merge device unlock data into the main dataset."
   ]
  },
  {
   "cell_type": "code",
   "execution_count": 18,
   "id": "45856ff9",
   "metadata": {},
   "outputs": [
    {
     "name": "stderr",
     "output_type": "stream",
     "text": [
      "C:\\Users\\Lakshay\\AppData\\Local\\Temp\\ipykernel_23312\\1689293242.py:3: FutureWarning: DataFrame.applymap has been deprecated. Use DataFrame.map instead.\n",
      "  unlock_df = unlock_df.applymap(remove_creation_info)\n"
     ]
    }
   ],
   "source": [
    "# Load and clean unlock data\n",
    "unlock_df = pd.read_excel(file_path, sheet_name=\"Device Unlocks\")\n",
    "unlock_df = unlock_df.applymap(remove_creation_info)\n",
    "unlock_df = unlock_df.dropna()\n",
    "unlock_df = unlock_df.drop(columns=['Unnamed: 0', 'Total Usage'], errors='ignore')\n",
    "# Reshape unlock data\n",
    "unlock_long = unlock_df.melt(var_name=\"Date\", value_name=\"Device Unlock\")\n",
    "unlock_long[\"Date\"] = pd.to_datetime(unlock_long[\"Date\"], format=\"%B %d, %Y\").dt.strftime(\"%Y-%m-%d\")\n",
    "\n",
    "# Merge unlock data\n",
    "merged_df = pd.merge(merged_df, unlock_long, on=\"Date\", how=\"left\")\n",
    "merged_df[\"Device Unlock\"] = merged_df[\"Device Unlock\"].fillna(0)"
   ]
  },
  {
   "cell_type": "markdown",
   "id": "5779080d",
   "metadata": {},
   "source": [
    "## Step 12: Save the Cleaned Data\n",
    "Save the final cleaned dataset to an Excel file."
   ]
  },
  {
   "cell_type": "code",
   "execution_count": 19,
   "id": "df812b62",
   "metadata": {},
   "outputs": [
    {
     "data": {
      "text/html": [
       "<div>\n",
       "<style scoped>\n",
       "    .dataframe tbody tr th:only-of-type {\n",
       "        vertical-align: middle;\n",
       "    }\n",
       "\n",
       "    .dataframe tbody tr th {\n",
       "        vertical-align: top;\n",
       "    }\n",
       "\n",
       "    .dataframe thead th {\n",
       "        text-align: right;\n",
       "    }\n",
       "</style>\n",
       "<table border=\"1\" class=\"dataframe\">\n",
       "  <thead>\n",
       "    <tr style=\"text-align: right;\">\n",
       "      <th></th>\n",
       "      <th>Apps</th>\n",
       "      <th>Date</th>\n",
       "      <th>Usage</th>\n",
       "      <th>Usage (in hours)</th>\n",
       "      <th>Usage Count</th>\n",
       "      <th>Device Unlock</th>\n",
       "    </tr>\n",
       "  </thead>\n",
       "  <tbody>\n",
       "    <tr>\n",
       "      <th>0</th>\n",
       "      <td>a.co</td>\n",
       "      <td>2024-12-08</td>\n",
       "      <td>0s</td>\n",
       "      <td>0.0</td>\n",
       "      <td>0.0</td>\n",
       "      <td>266.0</td>\n",
       "    </tr>\n",
       "    <tr>\n",
       "      <th>1</th>\n",
       "      <td>ActionDash</td>\n",
       "      <td>2024-12-08</td>\n",
       "      <td>0s</td>\n",
       "      <td>0.0</td>\n",
       "      <td>0.0</td>\n",
       "      <td>266.0</td>\n",
       "    </tr>\n",
       "    <tr>\n",
       "      <th>2</th>\n",
       "      <td>Airtel</td>\n",
       "      <td>2024-12-08</td>\n",
       "      <td>0s</td>\n",
       "      <td>0.0</td>\n",
       "      <td>0.0</td>\n",
       "      <td>266.0</td>\n",
       "    </tr>\n",
       "    <tr>\n",
       "      <th>3</th>\n",
       "      <td>amazon.ca</td>\n",
       "      <td>2024-12-08</td>\n",
       "      <td>0s</td>\n",
       "      <td>0.0</td>\n",
       "      <td>0.0</td>\n",
       "      <td>266.0</td>\n",
       "    </tr>\n",
       "    <tr>\n",
       "      <th>4</th>\n",
       "      <td>analytics.twitter.com</td>\n",
       "      <td>2024-12-08</td>\n",
       "      <td>0s</td>\n",
       "      <td>0.0</td>\n",
       "      <td>0.0</td>\n",
       "      <td>266.0</td>\n",
       "    </tr>\n",
       "  </tbody>\n",
       "</table>\n",
       "</div>"
      ],
      "text/plain": [
       "                    Apps        Date Usage  Usage (in hours)  Usage Count  \\\n",
       "0                   a.co  2024-12-08    0s               0.0          0.0   \n",
       "1             ActionDash  2024-12-08    0s               0.0          0.0   \n",
       "2                 Airtel  2024-12-08    0s               0.0          0.0   \n",
       "3              amazon.ca  2024-12-08    0s               0.0          0.0   \n",
       "4  analytics.twitter.com  2024-12-08    0s               0.0          0.0   \n",
       "\n",
       "   Device Unlock  \n",
       "0          266.0  \n",
       "1          266.0  \n",
       "2          266.0  \n",
       "3          266.0  \n",
       "4          266.0  "
      ]
     },
     "execution_count": 19,
     "metadata": {},
     "output_type": "execute_result"
    }
   ],
   "source": [
    "# Save the final DataFrame\n",
    "merged_df.to_excel(output_path, index=False)\n",
    "merged_df.head()"
   ]
  }
 ],
 "metadata": {
  "jupytext": {
   "cell_metadata_filter": "-all",
   "main_language": "python",
   "notebook_metadata_filter": "-all"
  },
  "kernelspec": {
   "display_name": "Python 3 (ipykernel)",
   "language": "python",
   "name": "python3"
  },
  "language_info": {
   "codemirror_mode": {
    "name": "ipython",
    "version": 3
   },
   "file_extension": ".py",
   "mimetype": "text/x-python",
   "name": "python",
   "nbconvert_exporter": "python",
   "pygments_lexer": "ipython3",
   "version": "3.13.1"
  }
 },
 "nbformat": 4,
 "nbformat_minor": 5
}

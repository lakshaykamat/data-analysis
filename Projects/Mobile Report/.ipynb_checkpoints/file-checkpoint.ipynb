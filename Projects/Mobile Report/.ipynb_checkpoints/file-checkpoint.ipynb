{
 "cells": [
  {
   "cell_type": "markdown",
   "id": "551def86",
   "metadata": {},
   "source": [
    "# Data Cleaning Pipeline\n",
    "This notebook outlines a structured process for cleaning, transforming, and preparing app usage data for analysis. \n",
    "The steps include removing unwanted text, converting time formats, reshaping data, and merging datasets.\n",
    "\n",
    "---\n",
    "\n",
    "## Step 1: Import Libraries"
   ]
  },
  {
   "cell_type": "code",
   "execution_count": null,
   "id": "749f7670",
   "metadata": {},
   "outputs": [],
   "source": [
    "import pandas as pd\n",
    "import re\n",
    "import numpy as np"
   ]
  },
  {
   "cell_type": "markdown",
   "id": "a194b29e",
   "metadata": {},
   "source": [
    "## Step 2: Load the Dataset\n",
    "Load the primary dataset containing app usage data."
   ]
  },
  {
   "cell_type": "code",
   "execution_count": null,
   "id": "66078c23",
   "metadata": {
    "lines_to_next_cell": 1
   },
   "outputs": [],
   "source": [
    "# File paths\n",
    "file_path = \"StayFree Export - Total Usage - 12_19_24.xls\"  # Replace with your actual file path\n",
    "output_path = \"usage_data_cleaned.xlsx\"\n",
    "\n",
    "# Load the dataset\n",
    "usage_time_df = pd.read_excel(file_path, sheet_name=\"Usage Time\")\n",
    "usage_time_df.head()"
   ]
  },
  {
   "cell_type": "markdown",
   "id": "8773f5c2",
   "metadata": {},
   "source": [
    "## Step 3: Remove Dynamic Text Information\n",
    "Define a function to clean dynamic text, such as creation dates and app metadata."
   ]
  },
  {
   "cell_type": "code",
   "execution_count": null,
   "id": "44c00619",
   "metadata": {},
   "outputs": [],
   "source": [
    "# Function to remove dynamic creation info\n",
    "def remove_creation_info(text):\n",
    "    if isinstance(text, str):\n",
    "        text = re.sub(r\"Creation date:\\s*\\d{1,2}/\\d{1,2}/\\d{2,4}\\s*\\d{1,2}:\\d{2}:\\d{2}(:\\d{2})?\", '', text)\n",
    "        text = re.sub(r\"Created by \\u201cStayFree\\u201d\\.\", '', text)\n",
    "    return text\n",
    "\n",
    "# Apply the function to clean the dataset\n",
    "usage_time_df = usage_time_df.applymap(remove_creation_info)\n",
    "usage_time_df.columns.values[0] = 'Apps'"
   ]
  },
  {
   "cell_type": "markdown",
   "id": "8c12fc22",
   "metadata": {},
   "source": [
    "## Step 4: Clean Unwanted Columns\n",
    "Remove columns with irrelevant data (e.g., `Unnamed` or `Device`) to streamline the dataset."
   ]
  },
  {
   "cell_type": "code",
   "execution_count": null,
   "id": "73531bdd",
   "metadata": {
    "lines_to_next_cell": 1
   },
   "outputs": [],
   "source": [
    "# Remove unwanted columns\n",
    "usage_time_df = usage_time_df.loc[:, ~usage_time_df.columns.str.contains('^Unnamed')]\n",
    "usage_time_df = usage_time_df.loc[:, ~usage_time_df.columns.str.contains('Device')]"
   ]
  },
  {
   "cell_type": "markdown",
   "id": "f8dd003e",
   "metadata": {},
   "source": [
    "## Step 5: Convert Time to Hours\n",
    "Define a function to standardize various time formats (e.g., `3h 4m`, `29m`) into total hours."
   ]
  },
  {
   "cell_type": "code",
   "execution_count": null,
   "id": "24ca9644",
   "metadata": {},
   "outputs": [],
   "source": [
    "# Function to convert time strings to hours\n",
    "def convert_to_hours(time_str):\n",
    "    if pd.isna(time_str) or time_str == '0s':\n",
    "        return 0.0\n",
    "\n",
    "    hours = minutes = seconds = 0\n",
    "    \n",
    "    match = re.match(r'(\\d+)h\\s*(\\d+)m\\s*(\\d+)s', time_str)\n",
    "    if match:\n",
    "        hours, minutes, seconds = int(match.group(1)), int(match.group(2)), int(match.group(3))\n",
    "    else:\n",
    "        match = re.match(r'(\\d+)h\\s*(\\d+)m', time_str)\n",
    "        if match:\n",
    "            hours, minutes = int(match.group(1)), int(match.group(2))\n",
    "        else:\n",
    "            match = re.match(r'(\\d+)m\\s*(\\d+)s', time_str)\n",
    "            if match:\n",
    "                minutes, seconds = int(match.group(1)), int(match.group(2))\n",
    "            else:\n",
    "                match = re.match(r'(\\d+)m', time_str)\n",
    "                if match:\n",
    "                    minutes = int(match.group(1))\n",
    "                else:\n",
    "                    match = re.match(r'(\\d+)s', time_str)\n",
    "                    if match:\n",
    "                        seconds = int(match.group(1))\n",
    "\n",
    "    return hours + (minutes / 60) + (seconds / 3600)\n",
    "\n",
    "# Test the function\n",
    "convert_to_hours(\"29m\")"
   ]
  },
  {
   "cell_type": "markdown",
   "id": "c6bf377f",
   "metadata": {},
   "source": [
    "## Step 6: Clean DataFrame\n",
    "Remove rows with `Total Usage`, empty values, or NaN entries."
   ]
  },
  {
   "cell_type": "code",
   "execution_count": null,
   "id": "c8b034a6",
   "metadata": {},
   "outputs": [],
   "source": [
    "# Clean the data\n",
    "usage_time_cleaned = usage_time_df.drop('Total Usage', axis=1, errors='ignore')\n",
    "usage_time_cleaned = usage_time_cleaned.dropna(how='any')\n",
    "usage_time_cleaned = usage_time_cleaned.loc[~(usage_time_cleaned == '').any(axis=1)]\n",
    "usage_time_cleaned = usage_time_cleaned[usage_time_cleaned['Apps'] != 'Total Usage']"
   ]
  },
  {
   "cell_type": "markdown",
   "id": "a3137177",
   "metadata": {},
   "source": [
    "## Step 7: Reshape DataFrame to Long Format\n",
    "Transform the data from a wide format (dates as columns) to a long format."
   ]
  },
  {
   "cell_type": "code",
   "execution_count": null,
   "id": "b9c5fcbe",
   "metadata": {},
   "outputs": [],
   "source": [
    "# Convert to long format\n",
    "usage_time_long = pd.melt(usage_time_cleaned, id_vars=['Apps'], var_name='Date', value_name='Usage')"
   ]
  },
  {
   "cell_type": "markdown",
   "id": "641ae868",
   "metadata": {},
   "source": [
    "## Step 8: Convert Date Column\n",
    "Standardize the `Date` column to ISO format (`YYYY-MM-DD`)."
   ]
  },
  {
   "cell_type": "code",
   "execution_count": null,
   "id": "965cd3fb",
   "metadata": {},
   "outputs": [],
   "source": [
    "# Format the Date column\n",
    "usage_time_long['Date'] = pd.to_datetime(usage_time_long['Date'], errors='coerce').dt.strftime('%Y-%m-%d')"
   ]
  },
  {
   "cell_type": "markdown",
   "id": "843ee7f3",
   "metadata": {},
   "source": [
    "## Step 9: Convert Usage Column to Hours\n",
    "Apply the `convert_to_hours` function to the `Usage` column."
   ]
  },
  {
   "cell_type": "code",
   "execution_count": null,
   "id": "c1936b11",
   "metadata": {},
   "outputs": [],
   "source": [
    "# Convert usage to hours\n",
    "usage_time_long['Usage (in hours)'] = usage_time_long['Usage'].apply(convert_to_hours)"
   ]
  },
  {
   "cell_type": "markdown",
   "id": "ad94d62c",
   "metadata": {},
   "source": [
    "## Step 10: Add Usage Count Data\n",
    "Load usage count data and merge it with the cleaned dataset."
   ]
  },
  {
   "cell_type": "code",
   "execution_count": null,
   "id": "6ae10706",
   "metadata": {},
   "outputs": [],
   "source": [
    "# Load and clean usage count data\n",
    "usage_count_df = pd.read_excel(file_path, sheet_name=\"Usage Count\")\n",
    "usage_count_df = usage_count_df.applymap(remove_creation_info)\n",
    "usage_count_df = usage_count_df.loc[~(usage_count_df == '').any(axis=1)]\n",
    "usage_count_df = usage_count_df.drop(columns=['Device'], errors='ignore')\n",
    "usage_count_df = usage_count_df.dropna()\n",
    "usage_count_df.rename(columns={usage_count_df.columns[0]: 'App Name'}, inplace=True)\n",
    "usage_count_df = usage_count_df[usage_count_df['App Name'] != 'Total Usage']\n",
    "\n",
    "# Reshape to long format\n",
    "usage_count_long = usage_count_df.melt(id_vars=['App Name'], var_name='Date', value_name='Usage Count')\n",
    "usage_count_long['Date'] = pd.to_datetime(usage_count_long['Date'], errors='coerce').dt.strftime('%Y-%m-%d')\n",
    "\n",
    "# Merge with the main dataset\n",
    "merged_df = pd.merge(usage_time_long, usage_count_long, left_on=['Apps', 'Date'], right_on=['App Name', 'Date'], how='left')\n",
    "merged_df = merged_df.drop(columns=['App Name']).fillna({'Usage Count': 0})"
   ]
  },
  {
   "cell_type": "markdown",
   "id": "5f841278",
   "metadata": {},
   "source": [
    "## Step 11: Add Device Unlock Data\n",
    "Load and merge device unlock data into the main dataset."
   ]
  },
  {
   "cell_type": "code",
   "execution_count": null,
   "id": "45856ff9",
   "metadata": {},
   "outputs": [],
   "source": [
    "# Load and clean unlock data\n",
    "unlock_df = pd.read_excel(file_path, sheet_name=\"Device Unlocks\")\n",
    "unlock_df = unlock_df.applymap(remove_creation_info)\n",
    "unlock_df = unlock_df.drop(columns=['Unlock', 'Total Usage'], errors='ignore')\n",
    "\n",
    "# Reshape unlock data\n",
    "unlock_long = unlock_df.melt(var_name=\"Date\", value_name=\"Device Unlock\")\n",
    "unlock_long[\"Date\"] = pd.to_datetime(unlock_long[\"Date\"], format=\"%B %d, %Y\").dt.strftime(\"%Y-%m-%d\")\n",
    "\n",
    "# Merge unlock data\n",
    "merged_df = pd.merge(merged_df, unlock_long, on=\"Date\", how=\"left\")\n",
    "merged_df[\"Device Unlock\"] = merged_df[\"Device Unlock\"].fillna(0)"
   ]
  },
  {
   "cell_type": "markdown",
   "id": "5779080d",
   "metadata": {},
   "source": [
    "## Step 12: Save the Cleaned Data\n",
    "Save the final cleaned dataset to an Excel file."
   ]
  },
  {
   "cell_type": "code",
   "execution_count": null,
   "id": "df812b62",
   "metadata": {},
   "outputs": [],
   "source": [
    "# Save the final DataFrame\n",
    "merged_df.to_excel(output_path, index=False)\n",
    "merged_df.head()"
   ]
  }
 ],
 "metadata": {
  "jupytext": {
   "cell_metadata_filter": "-all",
   "main_language": "python",
   "notebook_metadata_filter": "-all"
  },
  "kernelspec": {
   "display_name": "Python 3 (ipykernel)",
   "language": "python",
   "name": "python3"
  },
  "language_info": {
   "codemirror_mode": {
    "name": "ipython",
    "version": 3
   },
   "file_extension": ".py",
   "mimetype": "text/x-python",
   "name": "python",
   "nbconvert_exporter": "python",
   "pygments_lexer": "ipython3",
   "version": "3.13.1"
  }
 },
 "nbformat": 4,
 "nbformat_minor": 5
}
